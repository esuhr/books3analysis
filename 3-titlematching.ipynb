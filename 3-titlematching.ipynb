{
 "cells": [
  {
   "cell_type": "markdown",
   "metadata": {},
   "source": [
    "# Step 3: Matching titles\n",
    "\n",
    "We'll use the rapidfuzz library to match titles from the Books3 dataset to the Goodreads dataset. We'll create a function that leverages Levenshtein distance to extract the best match for each title in the Books3 dataset."
   ]
  },
  {
   "cell_type": "code",
   "execution_count": 2,
   "metadata": {},
   "outputs": [],
   "source": [
    "from rapidfuzz import process\n",
    "import polars as pl\n",
    "import pandas as pd\n",
    "import pickle\n",
    "import tqdm"
   ]
  },
  {
   "cell_type": "code",
   "execution_count": 10,
   "metadata": {},
   "outputs": [],
   "source": [
    "# read in books3 data and create list of titles\n",
    "books_df = pl.read_parquet('books3copyright.parquet')\n",
    "bookstitles = books_df['title'].to_list()\n",
    "\n",
    "# read in goodreads titles pickle file\n",
    "with open('./goodreads/authortitle.pickle', 'rb') as f:\n",
    "    goodreads_titles = pickle.load(f)"
   ]
  },
  {
   "cell_type": "code",
   "execution_count": 12,
   "metadata": {},
   "outputs": [],
   "source": [
    "# define matching function\n",
    "def match_titles(title, titles_list):\n",
    "    \"\"\"\n",
    "    Function to match titles from goodreads to books3 data\n",
    "    \"\"\"\n",
    "    # use rapidfuzz to match titles\n",
    "    match = process.extractOne(title, titles_list)\n",
    "    # return the match and the score\n",
    "    return title, match[0], match[1]"
   ]
  },
  {
   "cell_type": "code",
   "execution_count": null,
   "metadata": {},
   "outputs": [],
   "source": []
  }
 ],
 "metadata": {
  "kernelspec": {
   "display_name": ".venv-au",
   "language": "python",
   "name": "python3"
  },
  "language_info": {
   "codemirror_mode": {
    "name": "ipython",
    "version": 3
   },
   "file_extension": ".py",
   "mimetype": "text/x-python",
   "name": "python",
   "nbconvert_exporter": "python",
   "pygments_lexer": "ipython3",
   "version": "3.10.5"
  }
 },
 "nbformat": 4,
 "nbformat_minor": 2
}
